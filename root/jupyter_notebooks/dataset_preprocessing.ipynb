{
 "cells": [
  {
   "cell_type": "code",
   "execution_count": 1,
   "metadata": {},
   "outputs": [],
   "source": [
    "import os\n",
    "import yaml\n",
    "import random\n",
    "import numpy as np\n",
    "import pandas as pd\n",
    "import matplotlib.pyplot as plt\n",
    "import fastmri\n",
    "from fastmri.data import transforms as T\n",
    "from fastmri.data.mri_data import fetch_dir\n",
    "from fastmri.data.transforms import UnetDataTransform\n",
    "from fastmri.pl_modules import FastMriDataModule\n",
    "from fastmri.pl_modules import UnetModule\n",
    "import torch\n",
    "import logging\n",
    "from datetime import datetime\n",
    "import torch.optim as optim\n",
    "from torch.utils.data import DataLoader\n",
    "import logging\n",
    "from torchsummary import summary\n",
    "import torch.nn as nn\n",
    "import torch.nn.functional as F\n",
    "import h5py\n",
    "from scipy.ndimage import rotate\n",
    "from torch.utils.data import Dataset, DataLoader, DistributedSampler\n",
    "import torch.distributed as dist\n",
    "import torch.multiprocessing as mp"
   ]
  },
  {
   "cell_type": "markdown",
   "metadata": {},
   "source": [
    "### TESTING DISTRIBUTED PYTORCH"
   ]
  },
  {
   "cell_type": "code",
   "execution_count": 2,
   "metadata": {},
   "outputs": [
    {
     "name": "stdout",
     "output_type": "stream",
     "text": [
      "True\n"
     ]
    }
   ],
   "source": [
    "print(torch.distributed.is_available())"
   ]
  },
  {
   "cell_type": "code",
   "execution_count": 3,
   "metadata": {},
   "outputs": [],
   "source": [
    "def setup(rank, world_size):\n",
    "    dist.init_process_group(backend='nccl', init_method='tcp://127.0.0.1:29500', rank=rank, world_size=world_size)\n",
    "    torch.cuda.set_device(rank)\n",
    "\n",
    "def cleanup():\n",
    "    dist.destroy_process_group()\n",
    "\n",
    "def test_distributed(rank, world_size):\n",
    "    setup(rank, world_size)\n",
    "\n",
    "    # Create a tensor with the value equal to the rank\n",
    "    tensor = torch.tensor([rank], dtype=torch.float32).to(rank)\n",
    "\n",
    "    print(f\"\\nBefore All-Reduce, Rank {rank}: {tensor}, device='cuda:{rank}'\", flush = True)\n",
    "\n",
    "    # Perform an All-Reduce operation (sum up all tensors across ranks)\n",
    "    dist.all_reduce(tensor, op=dist.ReduceOp.SUM)\n",
    "\n",
    "    print(f\"\\nAfter All-Reduce, Rank {rank}: {tensor}, device='cuda:{rank}'\", flush = True)\n",
    "\n",
    "    cleanup()\n",
    "\n",
    "def run_distributed(world_size):\n",
    "    processes = []\n",
    "    for rank in range(world_size):\n",
    "        p = mp.Process(target=test_distributed, args=(rank, world_size))\n",
    "        p.start()\n",
    "        processes.append(p)\n",
    "\n",
    "    for p in processes:\n",
    "        p.join()"
   ]
  },
  {
   "cell_type": "code",
   "execution_count": 4,
   "metadata": {},
   "outputs": [
    {
     "name": "stdout",
     "output_type": "stream",
     "text": [
      "Number of GPUs:  3\n"
     ]
    }
   ],
   "source": [
    "# Define world size (number of GPUs)\n",
    "world_size = torch.cuda.device_count()  # or set manually to 4 if you have 4 GPUs\n",
    "print(\"Number of GPUs: \",world_size)"
   ]
  },
  {
   "cell_type": "code",
   "execution_count": 5,
   "metadata": {},
   "outputs": [
    {
     "name": "stdout",
     "output_type": "stream",
     "text": [
      "\n",
      "Before All-Reduce, Rank 0: tensor([0.], device='cuda:0'), device='cuda:0'\n",
      "\n",
      "Before All-Reduce, Rank 1: tensor([1.], device='cuda:1'), device='cuda:1'\n",
      "\n",
      "Before All-Reduce, Rank 2: tensor([2.], device='cuda:2'), device='cuda:2'\n",
      "\n",
      "After All-Reduce, Rank 2: tensor([3.], device='cuda:2'), device='cuda:2'\n",
      "After All-Reduce, Rank 1: tensor([3.], device='cuda:1'), device='cuda:1'\n",
      "\n",
      "\n",
      "After All-Reduce, Rank 0: tensor([3.], device='cuda:0'), device='cuda:0'\n"
     ]
    }
   ],
   "source": [
    "# Run distributed process\n",
    "run_distributed(world_size)"
   ]
  },
  {
   "cell_type": "markdown",
   "metadata": {},
   "source": [
    "### DATASET PREPROCESSING"
   ]
  },
  {
   "cell_type": "code",
   "execution_count": 3,
   "metadata": {},
   "outputs": [],
   "source": [
    "# Load configuration from the YAML file\n",
    "config_file = \"/eng/home/koushani/Documents/MR_KReconstruction/root/config/config.yml\"\n",
    "with open(config_file, 'r') as file:\n",
    "    config = yaml.safe_load(file)"
   ]
  },
  {
   "cell_type": "code",
   "execution_count": 4,
   "metadata": {},
   "outputs": [],
   "source": [
    "# Device and model configuration\n",
    "device = config['device']  # Use device specified in config\n",
    "epochs = config['EPOCHS']# Use epochs from config\n",
    "debug_input_size = config['debug_input_size']\n",
    "debug = config['debug'] \n",
    "batch_size = config['batch_size']\n",
    "num_workers = config['num_workers']\n",
    "log_directory = config['log_directory']"
   ]
  },
  {
   "cell_type": "code",
   "execution_count": 5,
   "metadata": {},
   "outputs": [],
   "source": [
    "def setup_logger(log_directory, resume=False): \n",
    "    \"\"\"\n",
    "    Set up a logger that writes logs to a .txt file in the logs directory.\n",
    "\n",
    "    Args:\n",
    "        log_directory (str): Directory where the checkpoint is saved.\n",
    "        resume (bool): Whether training is resuming from an existing checkpoint.\n",
    "\n",
    "    Returns:\n",
    "        logger (logging.Logger): Configured logger instance.\n",
    "    \"\"\"\n",
    "    # Ensure logs directory exists\n",
    "    logs_dir = os.path.join(os.path.dirname(log_directory), 'logs/UNet')\n",
    "    os.makedirs(logs_dir, exist_ok=True)\n",
    "\n",
    "    # Determine log file name based on whether we are resuming training or not\n",
    "    if resume:\n",
    "        # Resume from the same log file if resuming from a checkpoint\n",
    "        log_file_name = os.path.basename(log_directory).split('.')[0] + '.txt'\n",
    "    else:\n",
    "        # Create a new log file with timestamp if starting a new checkpoint\n",
    "        timestamp = datetime.now().strftime('%Y%m%d_%H%M%S')\n",
    "        log_file_name = f'log_MR_Reconstruction_UNet_{timestamp}.txt'\n",
    "    \n",
    "    log_file_path = os.path.join(logs_dir, log_file_name)\n",
    "\n",
    "    # Create the logger name with timestamp\n",
    "    logger_name = f'{datetime.now().strftime(\"%Y%m%d_%H%M%S\")}'\n",
    "    \n",
    "    # Configure the logger\n",
    "    logger = logging.getLogger(logger_name)\n",
    "    logger.setLevel(logging.INFO)\n",
    "    \n",
    "    # File handler to write logs to the file\n",
    "    fh = logging.FileHandler(log_file_path)\n",
    "    fh.setLevel(logging.INFO)\n",
    "    \n",
    "    # Console handler to output logs to the console\n",
    "    ch = logging.StreamHandler()\n",
    "    ch.setLevel(logging.INFO)\n",
    "    \n",
    "    # Formatter for both handlers\n",
    "    formatter = logging.Formatter('%(asctime)s - %(levelname)s - %(message)s')\n",
    "    fh.setFormatter(formatter)\n",
    "    ch.setFormatter(formatter)\n",
    "    \n",
    "    # Add handlers to the logger\n",
    "    if not logger.hasHandlers():  # To prevent adding handlers multiple times\n",
    "        logger.addHandler(fh)\n",
    "        logger.addHandler(ch)\n",
    "    \n",
    "    return logger"
   ]
  },
  {
   "cell_type": "code",
   "execution_count": 6,
   "metadata": {},
   "outputs": [],
   "source": [
    "# Function to analyze files in a directory\n",
    "def analyze_directory(directory_path):\n",
    "    file_count = 0\n",
    "    total_size = 0\n",
    "    file_types = {}\n",
    "    \n",
    "    for root, _, files in os.walk(directory_path):\n",
    "        for file in files:\n",
    "            file_count += 1\n",
    "            file_path = os.path.join(root, file)\n",
    "            file_size = os.path.getsize(file_path)\n",
    "            total_size += file_size\n",
    "            \n",
    "            file_extension = os.path.splitext(file)[1]\n",
    "            if file_extension in file_types:\n",
    "                file_types[file_extension] += 1\n",
    "            else:\n",
    "                file_types[file_extension] = 1\n",
    "    \n",
    "    return file_count, total_size, file_types"
   ]
  },
  {
   "cell_type": "code",
   "execution_count": 7,
   "metadata": {},
   "outputs": [],
   "source": [
    "# Expand variables manually\n",
    "root_dir = config['root_dir']\n",
    "train_dir = config['singlecoil_knee_train'].replace('${root_dir}', root_dir)\n",
    "val_dir = config['singlecoil_knee_val'].replace('${root_dir}', root_dir)\n",
    "test_dir = config['singlecoil_knee_test'].replace('${root_dir}', root_dir)\n",
    "MAX_HEIGHT = config['MAX_HEIGHT']\n",
    "MAX_WIDTH = config['MAX_WIDTH']"
   ]
  },
  {
   "cell_type": "code",
   "execution_count": 8,
   "metadata": {},
   "outputs": [
    {
     "name": "stdout",
     "output_type": "stream",
     "text": [
      "Root directory: /data2/users/koushani/FAST_MRI_data\n",
      "Training directory: /data2/users/koushani/FAST_MRI_data/singlecoil_train/\n",
      "Validation directory: /data2/users/koushani/FAST_MRI_data/singlecoil_val/\n",
      "Test directory: /data2/users/koushani/FAST_MRI_data/singlecoil_test/\n"
     ]
    }
   ],
   "source": [
    "# Debug print to check paths\n",
    "print(f\"Root directory: {root_dir}\")\n",
    "print(f\"Training directory: {train_dir}\")\n",
    "print(f\"Validation directory: {val_dir}\")\n",
    "print(f\"Test directory: {test_dir}\")"
   ]
  },
  {
   "cell_type": "code",
   "execution_count": 9,
   "metadata": {},
   "outputs": [],
   "source": [
    "# Check if directories exist\n",
    "for dir_path in [train_dir, val_dir, test_dir]:\n",
    "    if not os.path.exists(dir_path):\n",
    "        print(f\"Directory does not exist: {dir_path}\")"
   ]
  },
  {
   "cell_type": "code",
   "execution_count": 10,
   "metadata": {},
   "outputs": [],
   "source": [
    "# Analyze each directory\n",
    "train_files, train_size, train_types = analyze_directory(train_dir)\n",
    "val_files, val_size, val_types = analyze_directory(val_dir)\n",
    "test_files, test_size, test_types = analyze_directory(test_dir)\n",
    "\n",
    "# Convert sizes to MB\n",
    "train_size_mb = train_size / (1024 * 1024)\n",
    "val_size_mb = val_size / (1024 * 1024)\n",
    "test_size_mb = test_size / (1024 * 1024)"
   ]
  },
  {
   "cell_type": "code",
   "execution_count": 11,
   "metadata": {},
   "outputs": [
    {
     "name": "stdout",
     "output_type": "stream",
     "text": [
      "Training Data: 973 files, 89772.75 MB, File types: {'.h5': 973}\n",
      "Validation Data: 199 files, 18477.81 MB, File types: {'.h5': 199}\n",
      "Test Data: 108 files, 7053.53 MB, File types: {'.h5': 108}\n"
     ]
    }
   ],
   "source": [
    "# Print summary\n",
    "print(f\"Training Data: {train_files} files, {train_size_mb:.2f} MB, File types: {train_types}\")\n",
    "print(f\"Validation Data: {val_files} files, {val_size_mb:.2f} MB, File types: {val_types}\")\n",
    "print(f\"Test Data: {test_files} files, {test_size_mb:.2f} MB, File types: {test_types}\")"
   ]
  },
  {
   "cell_type": "code",
   "execution_count": 12,
   "metadata": {},
   "outputs": [],
   "source": [
    "# Function to extract central slices from the second dimension (width 640)\n",
    "def extract_central_slices(kspace_data, num_central_slices):\n",
    "    \"\"\"\n",
    "    Extract central 'n' slices along the width dimension (640).\n",
    "    :param kspace_data: The k-space data with shape (num_slices, height, width).\n",
    "    :param num_central_slices_width: The number of central width slices to extract (300 in this case).\n",
    "    :return: The k-space data with central width slices extracted.\n",
    "    \"\"\"\n",
    "    # Extract width (640 dimension)\n",
    "    num_width = kspace_data.shape[0]  # 640\n",
    "    center_width = num_width // 2  # Center of 640\n",
    "\n",
    "    # Start and end indices for central width slices\n",
    "    start_idx = center_width - (num_central_slices // 2)\n",
    "    end_idx = start_idx + num_central_slices\n",
    "\n",
    "    # Extract the central width slices\n",
    "    return kspace_data[start_idx:end_idx,:,: ]  # Apply along the first dimension\n"
   ]
  },
  {
   "cell_type": "code",
   "execution_count": 13,
   "metadata": {},
   "outputs": [],
   "source": [
    "def filter_valid_files(root_dir, max_height=368, CFG=None):\n",
    "    \"\"\"\n",
    "    Preprocess and filter valid files based on the height' dimension, with an optional debug flag.\n",
    "    :param root_dir: Path to the directory containing .h5 files.\n",
    "    :param max_height: Maximum allowable height' (default is 368).\n",
    "    :param CFG: Configuration dictionary. Expects 'debug' and 'debug_input_size' keys if debugging is enabled.\n",
    "    :return: List of valid file paths where height' <= max_height.\n",
    "    \"\"\"\n",
    "    valid_files = []\n",
    "    for file_name in os.listdir(root_dir):\n",
    "        if file_name.endswith('.h5'):\n",
    "            file_path = os.path.join(root_dir, file_name)\n",
    "            with h5py.File(file_path, 'r') as f:\n",
    "                kspace_data = f['kspace'][:]\n",
    "                # Transpose to axial orientation and check height'\n",
    "                axial_slices = np.transpose(kspace_data, (1, 2, 0))\n",
    "                height_prime = axial_slices.shape[1]  # height' is in the second dimension\n",
    "                if height_prime <= max_height:\n",
    "                    valid_files.append(file_name)\n",
    "    \n",
    "    # If debug mode is enabled, sample from the valid files\n",
    "    if debug:\n",
    "        valid_files_df = pd.DataFrame(valid_files, columns=['file_name'])  # Convert list to DataFrame for sampling\n",
    "        \n",
    "        if 0 < debug_input_size <= 1:  # If debug_input_size is a percentage\n",
    "            sample_size = int(debug_input_size * len(valid_files_df))  # Calculate the number of files to sample\n",
    "        else:\n",
    "            sample_size = debug_input_size  # If it's a fixed number\n",
    "        \n",
    "        # Ensure the sample size does not exceed the available files\n",
    "        sample_size = min(sample_size, len(valid_files_df))\n",
    "        \n",
    "        valid_files_sampled = valid_files_df.sample(sample_size)\n",
    "        valid_files = valid_files_sampled['file_name'].tolist()  # Convert back to a list\n",
    "    return valid_files"
   ]
  },
  {
   "cell_type": "code",
   "execution_count": 14,
   "metadata": {},
   "outputs": [],
   "source": [
    "filtered_train_files = filter_valid_files(train_dir)\n",
    "filtered_valid_files = filter_valid_files(val_dir)"
   ]
  },
  {
   "cell_type": "code",
   "execution_count": 18,
   "metadata": {},
   "outputs": [
    {
     "name": "stdout",
     "output_type": "stream",
     "text": [
      "114\n",
      "21\n"
     ]
    }
   ],
   "source": [
    "print(len(filtered_train_files))\n",
    "print(len(filtered_valid_files))"
   ]
  },
  {
   "cell_type": "code",
   "execution_count": 15,
   "metadata": {},
   "outputs": [
    {
     "name": "stdout",
     "output_type": "stream",
     "text": [
      "Corrected file path: /data2/users/koushani/FAST_MRI_data/singlecoil_train/file1001206.h5\n",
      "Keys in the file: ['ismrmrd_header', 'kspace', 'reconstruction_esc', 'reconstruction_rss']\n"
     ]
    }
   ],
   "source": [
    "# Correcting the file path if needed\n",
    "file_path = os.path.join(train_dir, 'file1001206.h5')\n",
    "print(f\"Corrected file path: {file_path}\") # Replace with the actual file path\n",
    "\n",
    "# Open the HDF5 file\n",
    "with h5py.File(file_path, 'r') as hf:\n",
    "    # List all groups\n",
    "    print(\"Keys in the file:\", list(hf.keys()))"
   ]
  },
  {
   "cell_type": "code",
   "execution_count": 16,
   "metadata": {},
   "outputs": [
    {
     "name": "stdout",
     "output_type": "stream",
     "text": [
      "Keys: ['ismrmrd_header', 'kspace', 'reconstruction_esc', 'reconstruction_rss']\n",
      "Attrs: {'acquisition': 'CORPD_FBK', 'max': 0.0009848569827773906, 'norm': 0.2780016598027961, 'patient_id': '58f27fcbe2c48252729051b913b33ddbccea387111af3ef5dfe6b3d36ac7416c'}\n"
     ]
    }
   ],
   "source": [
    "hf = h5py.File(file_path)\n",
    "print('Keys:', list(hf.keys()))\n",
    "print('Attrs:', dict(hf.attrs))"
   ]
  },
  {
   "cell_type": "code",
   "execution_count": 17,
   "metadata": {},
   "outputs": [
    {
     "name": "stdout",
     "output_type": "stream",
     "text": [
      "complex64\n",
      "(33, 640, 368)\n"
     ]
    }
   ],
   "source": [
    "volume_kspace = hf['kspace'][()]\n",
    "print(volume_kspace.dtype)\n",
    "print(volume_kspace.shape)"
   ]
  },
  {
   "cell_type": "code",
   "execution_count": 18,
   "metadata": {},
   "outputs": [
    {
     "name": "stdout",
     "output_type": "stream",
     "text": [
      "Shape of data: (33, 640, 368)\n"
     ]
    }
   ],
   "source": [
    "# Check the shape of the extracted slices\n",
    "print(f\"Shape of data: {volume_kspace.shape}\")"
   ]
  },
  {
   "cell_type": "code",
   "execution_count": 20,
   "metadata": {},
   "outputs": [
    {
     "name": "stdout",
     "output_type": "stream",
     "text": [
      "Shape of data: (33, 640, 368)\n"
     ]
    }
   ],
   "source": [
    "kspace2 = T.to_tensor(volume_kspace)\n",
    "image = fastmri.ifft2c(kspace2)\n",
    "image_abs = fastmri.complex_abs(image)\n",
    "# Convert image to numpy array for visualization\n",
    "image_np = image_abs.numpy()\n",
    "# Permute dimensions (equivalent of permute in MATLAB)\n",
    "# axial_image = np.transpose(image_np, (1, 2, 0))  # Switch axes 1 and 2\n",
    "print(f\"Shape of data: {image_np.shape}\")"
   ]
  },
  {
   "cell_type": "code",
   "execution_count": 22,
   "metadata": {},
   "outputs": [
    {
     "data": {
      "text/plain": [
       "(15, 640, 368)"
      ]
     },
     "execution_count": 22,
     "metadata": {},
     "output_type": "execute_result"
    }
   ],
   "source": [
    "trimmed_axial_image = extract_central_slices(image_np,15)\n",
    "trimmed_axial_image.shape"
   ]
  },
  {
   "cell_type": "code",
   "execution_count": 23,
   "metadata": {},
   "outputs": [
    {
     "data": {
      "image/png": "[encoded data removed]",
      "text/plain": [
       "<Figure size 432x288 with 1 Axes>"
      ]
     },
     "metadata": {
      "needs_background": "light"
     },
     "output_type": "display_data"
    }
   ],
   "source": [
    "# Plot the image (slice at index 300)\n",
    "plt.figure()\n",
    "plt.imshow((trimmed_axial_image[3, :, :]), cmap='gray', aspect='auto')  # Using index 299 for the 300th slice\n",
    "plt.title('Reconstructed Image (Slice 3)')\n",
    "plt.axis('off')\n",
    "plt.show()"
   ]
  },
  {
   "cell_type": "code",
   "execution_count": 24,
   "metadata": {},
   "outputs": [],
   "source": [
    "class AxialMRIDataset(Dataset):\n",
    "    def __init__(self, valid_files, root_dir, num_central_slices=300, max_height=368, max_width=50):\n",
    "        \"\"\"\n",
    "        Initialize the dataset by loading the list of valid .h5 files and setting parameters.\n",
    "        :param valid_files: List of valid .h5 files.\n",
    "        :param num_central_slices: Number of central axial slices to extract (default is 300).\n",
    "        :param max_height: Maximum height to filter slices (default is 368).\n",
    "        :param max_width: Maximum width for padding/truncating (default is 50).\n",
    "        \"\"\"\n",
    "        \n",
    "        self.valid_files = valid_files\n",
    "        self.root_dir =  root_dir\n",
    "        self.num_central_slices = num_central_slices\n",
    "        self.max_height = max_height  # We will filter based on this height\n",
    "        self.max_width = max_width\n",
    "\n",
    "    def extract_central_slices(self, axial_slices):\n",
    "        \"\"\"\n",
    "        Extract the central 'n' slices along the axial direction.\n",
    "        :param axial_slices: Tensor of axial slices (shape: slice', height', width').\n",
    "        \"\"\"\n",
    "        num_slices = axial_slices.shape[0]  # This is the slice' dimension (axial slices)\n",
    "        center_slice = num_slices // 2\n",
    "        start_idx = center_slice - (self.num_central_slices // 2)\n",
    "        end_idx = start_idx + self.num_central_slices\n",
    "        return axial_slices[start_idx:end_idx, :, :]\n",
    "\n",
    "    def visualize_axial_image(self, image):\n",
    "        \"\"\"\n",
    "        Visualize the axial image sample.\n",
    "        :param image: The image data tensor with shape (1, 368, 50).\n",
    "        \"\"\"\n",
    "\n",
    "        # Convert to numpy for visualization\n",
    "        axial_image = image.numpy()\n",
    "        print(axial_image.shape)\n",
    "\n",
    "        # Plot the axial image\n",
    "        plt.figure(figsize=(8, 8))\n",
    "        plt.imshow(axial_image[0], cmap='gray')\n",
    "        plt.title('Axial Image')\n",
    "        plt.axis('off')\n",
    "        plt.show()\n",
    "\n",
    "    def pad_to_final_shape(self, data, target_shape):\n",
    "        \"\"\"\n",
    "        Pad/truncate the input data (image or k-space) to the desired shape.\n",
    "        :param data: Input tensor of shape (channels, height, width).\n",
    "        :param target_shape: The desired shape, e.g., (channels, 368, 50).\n",
    "        \"\"\"\n",
    "        current_shape = data.shape\n",
    "        pad_height = max(0, target_shape[1] - current_shape[1])  # Difference in height\n",
    "        pad_width = max(0, target_shape[2] - current_shape[2])    # Difference in width\n",
    "\n",
    "        # Apply symmetric padding\n",
    "        padding = (pad_width // 2, pad_width - (pad_width // 2),  # Left-Right padding\n",
    "                   pad_height // 2, pad_height - (pad_height // 2))  # Top-Bottom padding\n",
    "\n",
    "        # Apply padding or trimming\n",
    "        padded_data = F.pad(data, padding, mode='constant', value=0)\n",
    "\n",
    "        return padded_data\n",
    "\n",
    "    def __len__(self):\n",
    "        return len(self.valid_files) * self.num_central_slices\n",
    "\n",
    "    def __getitem__(self, idx):\n",
    "        # Find which file this index corresponds to\n",
    "        file_idx = idx // self.num_central_slices\n",
    "        slice_idx = idx % self.num_central_slices\n",
    "        \n",
    "        file_name = self.valid_files[file_idx]\n",
    "        file_path = os.path.join(self.root_dir, file_name)\n",
    "\n",
    "        # Load the k-space data from the H5 file\n",
    "        with h5py.File(file_path, 'r') as f:\n",
    "            kspace_data = f['kspace'][:]  # Shape: (slice, height, width)\n",
    "        \n",
    "        kspace2 = T.to_tensor(kspace_data)\n",
    "        image = fastmri.ifft2c(kspace2)\n",
    "        image_abs = fastmri.complex_abs(image)\n",
    "        \n",
    "        # Transpose the k-space data to get axial slices: new shape (height', width', slice')\n",
    "        axial_slices = np.transpose(image_abs, (1, 2, 0))\n",
    "        \n",
    "        # Extract central 'n' axial slices (along height dimension, now treated as slice')\n",
    "        central_axial_slices = self.extract_central_slices(axial_slices)\n",
    "        \n",
    "        # Get the specific axial slice for this sample\n",
    "        axial_sample = central_axial_slices[slice_idx]\n",
    "        \n",
    "        # Step 2: Normalize the image\n",
    "        image_mean = axial_sample.mean()\n",
    "        image_std = axial_sample.std()\n",
    "        image_normalized = (axial_sample - image_mean) / image_std\n",
    "        \n",
    "        # Pad or truncate the normalized image to (368, 50)\n",
    "        input_image = self.pad_to_final_shape(image_normalized.unsqueeze(0), (1, self.max_height, self.max_width))\n",
    "        \n",
    "        # Step 3: Convert the normalized image back to k-space\n",
    "        image_complex = torch.stack([image_normalized, torch.zeros_like(image_normalized)], dim=-1)\n",
    "        target_kspace = fastmri.fft2c(image_complex)  # Forward Fourier transform back to k-space\n",
    "\n",
    "        # **Pad or truncate k-space**\n",
    "        target_kspace_padded = self.pad_to_final_shape(target_kspace.permute(2, 0, 1), (2, self.max_height, self.max_width))\n",
    "\n",
    "        # Return final sample: target (normalized and padded k-space) and input (padded image)\n",
    "        return input_image, target_kspace_padded"
   ]
  },
  {
   "cell_type": "code",
   "execution_count": 93,
   "metadata": {},
   "outputs": [],
   "source": [
    "class SagittalMRIDataset(Dataset):\n",
    "    def __init__(self, valid_files, root_dir, num_slices=30, max_height=450, max_width=500):\n",
    "        \"\"\"\n",
    "        Initialize the dataset by loading the list of valid .h5 files and setting parameters.\n",
    "        :param valid_files: List of valid .h5 files.\n",
    "        :param num_slices: Number of sagittal slices to extract (default is 37).\n",
    "        :param max_height: Maximum height for padding/truncating (default is 450).\n",
    "        :param max_width: Maximum width for padding/truncating (default is 500).\n",
    "        \"\"\"\n",
    "        \n",
    "        self.valid_files = valid_files\n",
    "        self.root_dir = root_dir\n",
    "        self.num_slices = num_slices\n",
    "        self.max_height = max_height\n",
    "        self.max_width = max_width\n",
    "        \n",
    "        \n",
    "        \n",
    "        \n",
    "\n",
    "    def extract_central_slices(self, volume):\n",
    "        \"\"\"\n",
    "        Extract the central 'n' sagittal slices along the first dimension.\n",
    "        :param volume: Tensor of k-space data with shape (depth, height, width).\n",
    "        \"\"\"\n",
    "        num_slices = volume.shape[0]\n",
    "        center_slice = num_slices // 2\n",
    "        start_idx = center_slice - (self.num_slices // 2)\n",
    "        end_idx = start_idx + self.num_slices\n",
    "        return volume[start_idx:end_idx, :, :]\n",
    "    \n",
    "    \n",
    "    \n",
    "    \n",
    "\n",
    "    def pad_to_final_shape(self, data, target_shape):\n",
    "        \"\"\"\n",
    "        Pad or truncate the input data (image or k-space) to the desired shape.\n",
    "        :param data: Input tensor of shape (channels, height, width).\n",
    "        :param target_shape: The desired shape, e.g., (channels, 450, 500).\n",
    "        \"\"\"\n",
    "        current_shape = data.shape\n",
    "        pad_height = max(0, target_shape[1] - current_shape[1])\n",
    "        pad_width = max(0, target_shape[2] - current_shape[2])\n",
    "\n",
    "        # Apply symmetric padding\n",
    "        padding = (pad_width // 2, pad_width - (pad_width // 2),  # Left-Right padding\n",
    "                pad_height // 2, pad_height - (pad_height // 2))  # Top-Bottom padding\n",
    "\n",
    "        # Apply padding or trimming as needed\n",
    "        padded_data = F.pad(data, padding, mode='constant', value=0)\n",
    "        \n",
    "        # If the height or width of `padded_data` exceeds the target, truncate it.\n",
    "        if padded_data.size(1) > target_shape[1]:  # Truncate height if needed\n",
    "            start_idx = (padded_data.size(1) - target_shape[1]) // 2\n",
    "            padded_data = padded_data[:, start_idx:start_idx + target_shape[1], :]\n",
    "            \n",
    "        if padded_data.size(2) > target_shape[2]:  # Truncate width if needed\n",
    "            start_idx = (padded_data.size(2) - target_shape[2]) // 2\n",
    "            padded_data = padded_data[:, :, start_idx:start_idx + target_shape[2]]\n",
    "\n",
    "        return padded_data\n",
    "    \n",
    "    \n",
    "    \n",
    "    def __len__(self):\n",
    "        return len(self.valid_files) * self.num_slices\n",
    "    \n",
    "    \n",
    "    \n",
    "\n",
    "    def __getitem__(self, idx):\n",
    "        # Find which file and slice this index corresponds to\n",
    "        file_idx = idx // self.num_slices\n",
    "        slice_idx = idx % self.num_slices\n",
    "        \n",
    "        file_name = self.valid_files[file_idx]\n",
    "        file_path = os.path.join(self.root_dir, file_name)\n",
    "\n",
    "        # Load the k-space data from the H5 file\n",
    "        with h5py.File(file_path, 'r') as f:\n",
    "            kspace_data = f['kspace'][:]  # Shape: (depth, height, width)\n",
    "\n",
    "        # Check that the volume has enough slices for the intended number of sagittal slices\n",
    "        if kspace_data.shape[0] < self.num_slices:\n",
    "            raise ValueError(f\"File {file_name} does not contain enough slices. Found {kspace_data.shape[0]}, expected at least {self.num_slices}.\")\n",
    "\n",
    "        kspace_tensor = T.to_tensor(kspace_data)  # Convert to torch tensor\n",
    "        sagittal_slices = self.extract_central_slices(kspace_tensor)  # Extract central slices\n",
    "\n",
    "        # Ensure slice_idx is within bounds after extracting central slices\n",
    "        if slice_idx >= sagittal_slices.shape[0]:\n",
    "            raise IndexError(f\"slice_idx {slice_idx} is out of bounds for sagittal_slices with shape {sagittal_slices.shape}\")\n",
    "\n",
    "        # Get the specific sagittal slice for this sample\n",
    "        sagittal_sample = sagittal_slices[slice_idx]  # Shape should be (height, width)\n",
    "        \n",
    "        # Step 1: Normalize the image\n",
    "        image_abs = fastmri.complex_abs(sagittal_sample)  # Get the magnitude for image data\n",
    "        image_mean = image_abs.mean()\n",
    "        image_std = image_abs.std()\n",
    "        image_normalized = (image_abs - image_mean) / image_std\n",
    "\n",
    "        # Pad or truncate the normalized image to (450, 500)\n",
    "        input_image = self.pad_to_final_shape(image_normalized.unsqueeze(0), (1, self.max_height, self.max_width))\n",
    "        \n",
    "        # Step 2: Convert the normalized image back to k-space with separate real and imaginary channels\n",
    "        image_complex = torch.stack([image_normalized, torch.zeros_like(image_normalized)], dim=-1)\n",
    "        target_kspace = fastmri.fft2c(image_complex.unsqueeze(0))  # Forward Fourier transform to k-space\n",
    "        \n",
    "        # Pad/truncate k-space to the target shape (2, 450, 500)\n",
    "        target_kspace_padded = self.pad_to_final_shape(target_kspace.squeeze(0).permute(2, 0, 1), (2, self.max_height, self.max_width))\n",
    "\n",
    "        # Return final sample: input image and target k-space with desired shapes\n",
    "        return input_image, target_kspace_padded"
   ]
  },
  {
   "cell_type": "code",
   "execution_count": 94,
   "metadata": {},
   "outputs": [],
   "source": [
    "# Pass the valid files to the dataset\n",
    "mri_train_dataset = SagittalMRIDataset(valid_files=filtered_train_files, root_dir = train_dir)\n",
    "mri_valid_dataset = SagittalMRIDataset(valid_files=filtered_valid_files, root_dir = val_dir)"
   ]
  },
  {
   "cell_type": "code",
   "execution_count": 95,
   "metadata": {},
   "outputs": [
    {
     "name": "stdout",
     "output_type": "stream",
     "text": [
      "Total axial samples generated (training): 5130\n",
      "Total axial samples generated (validation): 930\n"
     ]
    }
   ],
   "source": [
    "print(f\"Total axial samples generated (training): {len(mri_train_dataset)}\")\n",
    "print(f\"Total axial samples generated (validation): {len(mri_valid_dataset)}\")\n"
   ]
  },
  {
   "cell_type": "code",
   "execution_count": 97,
   "metadata": {},
   "outputs": [
    {
     "name": "stdout",
     "output_type": "stream",
     "text": [
      "training input image shape:  torch.Size([1, 450, 500])\n",
      "training target k-space shape:  torch.Size([2, 450, 500])\n",
      "validation input image shape:  torch.Size([1, 450, 500])\n",
      "validation target k-space shape:  torch.Size([2, 450, 500])\n"
     ]
    }
   ],
   "source": [
    "input_image, target_kspace = mri_train_dataset[500]\n",
    "input_image_valid, target_kspace_valid = mri_valid_dataset[500]\n",
    "print(\"training input image shape: \", input_image.shape)\n",
    "print(\"training target k-space shape: \", target_kspace.shape)\n",
    "print(\"validation input image shape: \", input_image_valid.shape)\n",
    "print(\"validation target k-space shape: \", target_kspace_valid.shape)"
   ]
  },
  {
   "cell_type": "code",
   "execution_count": 98,
   "metadata": {},
   "outputs": [
    {
     "name": "stdout",
     "output_type": "stream",
     "text": [
      "Training Batch 1:\n",
      "  K-space batch shape: torch.Size([256, 1, 450, 500])\n",
      "  Image batch shape: torch.Size([256, 2, 450, 500])\n",
      "Validation Batch 1:\n",
      "  K-space batch shape: torch.Size([256, 1, 450, 500])\n",
      "  Image batch shape: torch.Size([256, 2, 450, 500])\n"
     ]
    }
   ],
   "source": [
    "# Define the DataLoader\n",
    "train_dataloader = DataLoader(mri_train_dataset, batch_size=batch_size, num_workers = num_workers, shuffle=True)\n",
    "validation_dataloader = DataLoader(mri_valid_dataset, batch_size=batch_size, num_workers = num_workers, shuffle=True)\n",
    "#test_dataloader = DataLoader(mri_test_dataset, batch_size=batch_size, num_workers = num_workers, shuffle=True)\n",
    "\n",
    "# Set the number of batches to observe\n",
    "n = 1  # You can change this to any value you want\n",
    "\n",
    "# Iterate through the DataLoader and print batch shapes for n batches\n",
    "for batch_idx, (kspace_batch, image_batch) in enumerate(train_dataloader):\n",
    "    print(f\"Training Batch {batch_idx + 1}:\")\n",
    "    print(f\"  K-space batch shape: {kspace_batch.shape}\")\n",
    "    print(f\"  Image batch shape: {image_batch.shape}\")\n",
    "    \n",
    "    if batch_idx + 1 == n:  # Stop after n batches\n",
    "        break\n",
    "    \n",
    "    \n",
    "    \n",
    "# Iterate through the DataLoader and print batch shapes for n batches\n",
    "for batch_idx, (kspace_batch, image_batch) in enumerate(validation_dataloader):\n",
    "    print(f\"Validation Batch {batch_idx + 1}:\")\n",
    "    print(f\"  K-space batch shape: {kspace_batch.shape}\")\n",
    "    print(f\"  Image batch shape: {image_batch.shape}\")\n",
    "    \n",
    "    if batch_idx + 1 == n:  # Stop after n batches\n",
    "        break\n",
    "    \n",
    "# # Iterate through the DataLoader and print batch shapes for n batches\n",
    "# for batch_idx, (kspace_batch, image_batch) in enumerate(test_dataloader):\n",
    "#     print(f\"Testing Batch {batch_idx + 1}:\")\n",
    "#     print(f\"  K-space batch shape: {kspace_batch.shape}\")\n",
    "#     print(f\"  Image batch shape: {image_batch.shape}\")\n",
    "    \n",
    "#     if batch_idx + 1 == n:  # Stop after n batches\n",
    "#         break"
   ]
  },
  {
   "cell_type": "markdown",
   "metadata": {},
   "source": [
    "### MODEL BUILDING AND TRAINING"
   ]
  },
  {
   "cell_type": "code",
   "execution_count": 31,
   "metadata": {},
   "outputs": [],
   "source": [
    "def double_conv(in_channels, out_channels):\n",
    "    return nn.Sequential(\n",
    "        nn.Conv2d(in_channels, out_channels, kernel_size=3, padding=1),\n",
    "        nn.ReLU(inplace=True),\n",
    "        nn.Conv2d(out_channels, out_channels, kernel_size=3, padding=1),\n",
    "        nn.ReLU(inplace=True)\n",
    "    )\n",
    "\n",
    "def crop_tensor(input_tensor, target_tensor):\n",
    "    \"\"\"\n",
    "    Crops the input_tensor to match the size of the target_tensor.\n",
    "    Both tensors are assumed to have shape (batch_size, channels, height, width).\n",
    "    \"\"\"\n",
    "    _, _, target_h, target_w = target_tensor.shape\n",
    "    _, _, input_h, input_w = input_tensor.shape\n",
    "\n",
    "    # Calculate cropping for height and width\n",
    "    crop_h = (input_h - target_h) // 2\n",
    "    crop_w = (input_w - target_w) // 2\n",
    "\n",
    "    # Adjust the height if the dimensions do not match\n",
    "    if input_h > target_h:\n",
    "        input_tensor = input_tensor[:, :, crop_h:crop_h + target_h, :]\n",
    "    elif input_h < target_h:\n",
    "        # Pad the tensor if it's smaller\n",
    "        padding_h = (target_h - input_h) // 2\n",
    "        input_tensor = F.pad(input_tensor, (0, 0, padding_h, target_h - input_h - padding_h), mode='constant', value=0)\n",
    "\n",
    "    # Adjust the width if the dimensions do not match\n",
    "    if input_w > target_w:\n",
    "        input_tensor = input_tensor[:, :, :, crop_w:crop_w + target_w]\n",
    "    elif input_w < target_w:\n",
    "        # Pad the tensor if it's smaller\n",
    "        padding_w = (target_w - input_w) // 2\n",
    "        input_tensor = F.pad(input_tensor, (padding_w, target_w - input_w - padding_w, 0, 0), mode='constant', value=0)\n",
    "\n",
    "    return input_tensor\n",
    "\n",
    "class UNet(nn.Module):\n",
    "    def __init__(self):\n",
    "        super().__init__()\n",
    "        # Contracting path (Encoder)\n",
    "        self.dconv_down1 = double_conv(1, 64)   # Input: 1 channel (grayscale)\n",
    "        self.dconv_down2 = double_conv(64, 128)\n",
    "        self.dconv_down3 = double_conv(128, 256)\n",
    "        self.dconv_down4 = double_conv(256, 512)\n",
    "\n",
    "        self.maxpool = nn.MaxPool2d(2)\n",
    "        self.upsample = nn.Upsample(scale_factor=2, mode='bilinear', align_corners=True)\n",
    "\n",
    "        # Expansive path (Decoder)\n",
    "        self.dconv_up3 = double_conv(256 + 512, 256)\n",
    "        self.dconv_up2 = double_conv(128 + 256, 128)\n",
    "        self.dconv_up1 = double_conv(128 + 64, 64)\n",
    "\n",
    "        # Final 1x1 convolution to output 2 channels (real + imaginary)\n",
    "        self.conv_last = nn.Conv2d(64, 2, kernel_size=1)\n",
    "\n",
    "    def forward(self, x):\n",
    "        # Encoder (downsampling)\n",
    "        conv1 = self.dconv_down1(x)\n",
    "        x = self.maxpool(conv1)\n",
    "\n",
    "        conv2 = self.dconv_down2(x)\n",
    "        x = self.maxpool(conv2)\n",
    "\n",
    "        conv3 = self.dconv_down3(x)\n",
    "        x = self.maxpool(conv3)\n",
    "\n",
    "        x = self.dconv_down4(x)\n",
    "\n",
    "        # Decoder (upsampling)\n",
    "        x = self.upsample(x)\n",
    "        #print(f\"Upsampled x shape: {x.shape}, conv3 shape: {conv3.shape}\")  # Debugging\n",
    "        x = crop_tensor(x, conv3)  # Crop to match conv3\n",
    "        x = torch.cat([x, conv3], dim=1)\n",
    "\n",
    "        x = self.dconv_up3(x)\n",
    "        x = self.upsample(x)\n",
    "        #print(f\"Upsampled x shape: {x.shape}, conv2 shape: {conv2.shape}\")  # Debugging\n",
    "        x = crop_tensor(x, conv2)  # Crop to match conv2\n",
    "        x = torch.cat([x, conv2], dim=1)\n",
    "\n",
    "        x = self.dconv_up2(x)\n",
    "        x = self.upsample(x)\n",
    "        #print(f\"Upsampled x shape: {x.shape}, conv1 shape: {conv1.shape}\")  # Debugging\n",
    "        x = crop_tensor(x, conv1)  # Crop to match conv1\n",
    "        x = torch.cat([x, conv1], dim=1)\n",
    "\n",
    "        x = self.dconv_up1(x)\n",
    "\n",
    "        # Output 2 channels (real + imaginary)\n",
    "        out = self.conv_last(x)\n",
    "\n",
    "        return out"
   ]
  },
  {
   "cell_type": "code",
   "execution_count": 32,
   "metadata": {},
   "outputs": [
    {
     "name": "stdout",
     "output_type": "stream",
     "text": [
      "UNet(\n",
      "  (dconv_down1): Sequential(\n",
      "    (0): Conv2d(1, 64, kernel_size=(3, 3), stride=(1, 1), padding=(1, 1))\n",
      "    (1): ReLU(inplace=True)\n",
      "    (2): Conv2d(64, 64, kernel_size=(3, 3), stride=(1, 1), padding=(1, 1))\n",
      "    (3): ReLU(inplace=True)\n",
      "  )\n",
      "  (dconv_down2): Sequential(\n",
      "    (0): Conv2d(64, 128, kernel_size=(3, 3), stride=(1, 1), padding=(1, 1))\n",
      "    (1): ReLU(inplace=True)\n",
      "    (2): Conv2d(128, 128, kernel_size=(3, 3), stride=(1, 1), padding=(1, 1))\n",
      "    (3): ReLU(inplace=True)\n",
      "  )\n",
      "  (dconv_down3): Sequential(\n",
      "    (0): Conv2d(128, 256, kernel_size=(3, 3), stride=(1, 1), padding=(1, 1))\n",
      "    (1): ReLU(inplace=True)\n",
      "    (2): Conv2d(256, 256, kernel_size=(3, 3), stride=(1, 1), padding=(1, 1))\n",
      "    (3): ReLU(inplace=True)\n",
      "  )\n",
      "  (dconv_down4): Sequential(\n",
      "    (0): Conv2d(256, 512, kernel_size=(3, 3), stride=(1, 1), padding=(1, 1))\n",
      "    (1): ReLU(inplace=True)\n",
      "    (2): Conv2d(512, 512, kernel_size=(3, 3), stride=(1, 1), padding=(1, 1))\n",
      "    (3): ReLU(inplace=True)\n",
      "  )\n",
      "  (maxpool): MaxPool2d(kernel_size=2, stride=2, padding=0, dilation=1, ceil_mode=False)\n",
      "  (upsample): Upsample(scale_factor=2.0, mode='bilinear')\n",
      "  (dconv_up3): Sequential(\n",
      "    (0): Conv2d(768, 256, kernel_size=(3, 3), stride=(1, 1), padding=(1, 1))\n",
      "    (1): ReLU(inplace=True)\n",
      "    (2): Conv2d(256, 256, kernel_size=(3, 3), stride=(1, 1), padding=(1, 1))\n",
      "    (3): ReLU(inplace=True)\n",
      "  )\n",
      "  (dconv_up2): Sequential(\n",
      "    (0): Conv2d(384, 128, kernel_size=(3, 3), stride=(1, 1), padding=(1, 1))\n",
      "    (1): ReLU(inplace=True)\n",
      "    (2): Conv2d(128, 128, kernel_size=(3, 3), stride=(1, 1), padding=(1, 1))\n",
      "    (3): ReLU(inplace=True)\n",
      "  )\n",
      "  (dconv_up1): Sequential(\n",
      "    (0): Conv2d(192, 64, kernel_size=(3, 3), stride=(1, 1), padding=(1, 1))\n",
      "    (1): ReLU(inplace=True)\n",
      "    (2): Conv2d(64, 64, kernel_size=(3, 3), stride=(1, 1), padding=(1, 1))\n",
      "    (3): ReLU(inplace=True)\n",
      "  )\n",
      "  (conv_last): Conv2d(64, 2, kernel_size=(1, 1), stride=(1, 1))\n",
      ")\n"
     ]
    }
   ],
   "source": [
    "# Create an instance of the UNet model\n",
    "model = UNet()  # For k-space output with 2 channels (real and imaginary)\n",
    "device = torch.device(\"cuda\" if torch.cuda.is_available() else \"cpu\")\n",
    "model = UNet().to(device)\n",
    "\n",
    "print(model)"
   ]
  },
  {
   "cell_type": "code",
   "execution_count": 33,
   "metadata": {},
   "outputs": [],
   "source": [
    "# Define the NMSE function\n",
    "def nmse(predicted, target):\n",
    "    mse = torch.mean((predicted - target) ** 2)\n",
    "    norm_factor = torch.mean(target ** 2)\n",
    "    nmse_value = mse / norm_factor\n",
    "    return nmse_value.item()"
   ]
  },
  {
   "cell_type": "code",
   "execution_count": 34,
   "metadata": {},
   "outputs": [],
   "source": [
    "# Setup for Distributed Training\n",
    "def setup_training(rank, world_size):\n",
    "    dist.init_process_group(backend='nccl', init_method='tcp://127.0.0.1:29500', rank=rank, world_size=world_size)\n",
    "    torch.cuda.set_device(rank)\n",
    "    \n",
    "def cleanup_training():\n",
    "    dist.destroy_process_group()"
   ]
  },
  {
   "cell_type": "code",
   "execution_count": 35,
   "metadata": {},
   "outputs": [],
   "source": [
    "# Load checkpoint function\n",
    "def load_checkpoint(checkpoint_dir, checkpoint_filename, model, optimizer, new_checkpoint=False):\n",
    "    checkpoint_path = os.path.join(checkpoint_dir, checkpoint_filename)\n",
    "    \n",
    "    if not new_checkpoint and os.path.isfile(checkpoint_path):\n",
    "        print(f\"Loading checkpoint '{checkpoint_path}'\")\n",
    "        checkpoint = torch.load(checkpoint_path, map_location=torch.device('cuda', torch.cuda.current_device()))\n",
    "        model.load_state_dict(checkpoint['state_dict'])\n",
    "        optimizer.load_state_dict(checkpoint['optimizer'])\n",
    "        start_epoch = checkpoint['epoch']\n",
    "        train_losses = checkpoint['train_losses']\n",
    "        valid_losses = checkpoint['valid_losses']\n",
    "        train_accuracies = checkpoint['train_accuracies']\n",
    "        valid_accuracies = checkpoint['valid_accuracies']\n",
    "        print(f\"Loaded checkpoint from epoch {start_epoch}\")\n",
    "    else:\n",
    "        if new_checkpoint:\n",
    "            print(f\"Creating a new checkpoint at '{checkpoint_path}'\")\n",
    "        else:\n",
    "            print(f\"No checkpoint found at '{checkpoint_path}', starting fresh.\")\n",
    "        start_epoch = 0\n",
    "        train_losses = []\n",
    "        valid_losses = []\n",
    "        train_accuracies = []\n",
    "        valid_accuracies = []\n",
    "\n",
    "    return start_epoch, train_losses, valid_losses, train_accuracies, valid_accuracies"
   ]
  },
  {
   "cell_type": "code",
   "execution_count": 36,
   "metadata": {},
   "outputs": [],
   "source": [
    "# Save checkpoint function\n",
    "def save_checkpoint(state, checkpoint_dir, checkpoint_filename):\n",
    "    checkpoint_path = os.path.join(checkpoint_dir, checkpoint_filename)\n",
    "    torch.save(state, checkpoint_path)\n",
    "    print(f\"Checkpoint saved at '{checkpoint_path}'\")"
   ]
  },
  {
   "cell_type": "code",
   "execution_count": 37,
   "metadata": {},
   "outputs": [],
   "source": [
    "# Define the training loop with logging and NMSE accuracy for Distributed Data Parallel with checkpointing\n",
    "def train_model(rank, world_size, model, train_dataset, valid_dataset, epochs=10, lr=1e-4, device='cuda', log_directory=\"log_dir\", resume=False, checkpoint_dir=\"checkpoints\", checkpoint_filename=\"model_checkpoint.pth\", new_checkpoint=False):\n",
    "    # Setup Distributed Training\n",
    "    setup(rank, world_size)\n",
    "\n",
    "    # Send model to the appropriate device and wrap with DistributedDataParallel\n",
    "    model = model.to(rank)\n",
    "    model = nn.parallel.DistributedDataParallel(model, device_ids=[rank])\n",
    "\n",
    "    # Define loss function and optimizer\n",
    "    criterion = nn.MSELoss()\n",
    "    optimizer = optim.Adam(model.parameters(), lr=lr)\n",
    "\n",
    "    # Load checkpoint if available\n",
    "    start_epoch, train_losses, valid_losses, train_accuracies, valid_accuracies = load_checkpoint(\n",
    "        checkpoint_dir, checkpoint_filename, model, optimizer, new_checkpoint=new_checkpoint)\n",
    "\n",
    "    # Use DistributedSampler to ensure each process gets a subset of the data\n",
    "    train_sampler = DistributedSampler(train_dataset, num_replicas=world_size, rank=rank)\n",
    "    valid_sampler = DistributedSampler(valid_dataset, num_replicas=world_size, rank=rank)\n",
    "\n",
    "    # Create data loaders with the distributed sampler\n",
    "    train_loader = DataLoader(train_dataset, batch_size=32, sampler=train_sampler)\n",
    "    valid_loader = DataLoader(valid_dataset, batch_size=32, sampler=valid_sampler)\n",
    "\n",
    "    # Set up the logger (log only on the main process, i.e., rank 0)\n",
    "    if rank == 0:\n",
    "        logger = setup_logger(log_directory, resume)\n",
    "        logger.info(\"Starting Training\")\n",
    "\n",
    "    # Track losses and accuracies\n",
    "    for epoch in range(start_epoch, epochs):\n",
    "        model.train()\n",
    "        running_train_loss = 0.0\n",
    "        running_train_nmse = 0.0\n",
    "        \n",
    "        train_sampler.set_epoch(epoch)  # Shuffle data differently each epoch\n",
    "        for i, (image_batch, kspace_batch) in enumerate(train_loader):\n",
    "            kspace_batch = kspace_batch.to(rank)\n",
    "            image_batch = image_batch.to(rank)\n",
    "            \n",
    "            # Zero the gradients\n",
    "            optimizer.zero_grad()\n",
    "            \n",
    "            # Forward pass: Get the reconstructed image from UNet model\n",
    "            outputs = model(image_batch)\n",
    "            \n",
    "            # Compute the loss\n",
    "            loss = criterion(outputs, kspace_batch)\n",
    "            \n",
    "            # Backward pass: Compute gradients\n",
    "            loss.backward()\n",
    "            \n",
    "            # Update model parameters\n",
    "            optimizer.step()\n",
    "            \n",
    "            # Accumulate loss\n",
    "            running_train_loss += loss.item()\n",
    "            \n",
    "            # Compute NMSE\n",
    "            batch_nmse = nmse(outputs, kspace_batch)\n",
    "            running_train_nmse += batch_nmse\n",
    "            \n",
    "            if rank == 0 and (i + 1) % 100 == 0:\n",
    "                logger.info(f\"Epoch [{epoch+1}/{epochs}], Step [{i+1}/{len(train_loader)}], \"\n",
    "                            f\"Training Loss: {loss.item():.4f}, NMSE: {batch_nmse:.4f}\")\n",
    "        \n",
    "        # Validation phase\n",
    "        model.eval()\n",
    "        running_valid_loss = 0.0\n",
    "        running_valid_nmse = 0.0\n",
    "        with torch.no_grad():\n",
    "            for image_batch, kspace_batch in valid_loader:\n",
    "                kspace_batch = kspace_batch.to(rank)\n",
    "                image_batch = image_batch.to(rank)\n",
    "\n",
    "                # Forward pass\n",
    "                outputs = model(image_batch)\n",
    "\n",
    "                # Compute validation loss\n",
    "                loss = criterion(outputs, kspace_batch)\n",
    "                running_valid_loss += loss.item()\n",
    "\n",
    "                # Compute NMSE\n",
    "                batch_nmse = nmse(outputs, kspace_batch)\n",
    "                running_valid_nmse += batch_nmse\n",
    "\n",
    "        avg_train_loss = running_train_loss / len(train_loader)\n",
    "        avg_train_nmse = running_train_nmse / len(train_loader)\n",
    "        avg_valid_loss = running_valid_loss / len(valid_loader)\n",
    "        avg_valid_nmse = running_valid_nmse / len(valid_loader)\n",
    "\n",
    "      # Log the results for all ranks\n",
    "        avg_train_loss = running_train_loss / len(train_loader)\n",
    "        avg_train_nmse = running_train_nmse / len(train_loader)\n",
    "        avg_valid_loss = running_valid_loss / len(valid_loader)\n",
    "        avg_valid_nmse = running_valid_nmse / len(valid_loader)\n",
    "\n",
    "        # Log for each rank\n",
    "        logger.info(f\"Rank [{rank}] - Epoch [{epoch+1}/{epochs}] completed. \"\n",
    "                    f\"Avg Train Loss: {avg_train_loss:.4f}, Train NMSE: {avg_train_nmse:.4f}, \"\n",
    "                    f\"Avg Valid Loss: {avg_valid_loss:.4f}, Valid NMSE: {avg_valid_nmse:.4f}\")\n",
    "\n",
    "        # Save checkpoint\n",
    "        state = {\n",
    "            'epoch': epoch + 1,  # Save the next epoch number\n",
    "            'state_dict': model.module.state_dict(),\n",
    "            'optimizer': optimizer.state_dict(),\n",
    "            'train_losses': train_losses,\n",
    "            'valid_losses': valid_losses,\n",
    "            'train_accuracies': train_accuracies,\n",
    "            'valid_accuracies': valid_accuracies\n",
    "        }\n",
    "        save_checkpoint(state, checkpoint_dir, checkpoint_filename)\n",
    "\n",
    "    cleanup()"
   ]
  },
  {
   "cell_type": "code",
   "execution_count": 38,
   "metadata": {},
   "outputs": [],
   "source": [
    "def run_distributed_training(model, train_dataset, valid_dataset, world_size, epochs=10, lr=1e-4, device='cuda', log_directory=\"log_dir\", resume=False, checkpoint_dir=\"checkpoints\", checkpoint_filename=\"model_checkpoint.pth\", new_checkpoint=False):\n",
    "    mp.spawn(train_model,\n",
    "             args=(world_size, model, train_dataset, valid_dataset, epochs, lr, device, log_directory, resume, checkpoint_dir, checkpoint_filename, new_checkpoint),\n",
    "             nprocs=world_size,\n",
    "             join=True)"
   ]
  },
  {
   "cell_type": "code",
   "execution_count": 40,
   "metadata": {},
   "outputs": [
    {
     "name": "stderr",
     "output_type": "stream",
     "text": [
      "Traceback (most recent call last):\n",
      "  File \"<string>\", line 1, in <module>\n",
      "  File \"/usr/lib/python3.10/multiprocessing/spawn.py\", line 116, in spawn_main\n",
      "    exitcode = _main(fd, parent_sentinel)\n",
      "  File \"/usr/lib/python3.10/multiprocessing/spawn.py\", line 126, in _main\n",
      "    self = reduction.pickle.load(from_parent)\n",
      "AttributeError: Can't get attribute 'train_model' on <module '__main__' (built-in)>\n",
      "Traceback (most recent call last):\n",
      "  File \"<string>\", line 1, in <module>\n",
      "  File \"/usr/lib/python3.10/multiprocessing/spawn.py\", line 116, in spawn_main\n",
      "    exitcode = _main(fd, parent_sentinel)\n",
      "  File \"/usr/lib/python3.10/multiprocessing/spawn.py\", line 126, in _main\n",
      "    self = reduction.pickle.load(from_parent)\n",
      "AttributeError: Can't get attribute 'train_model' on <module '__main__' (built-in)>\n",
      "Traceback (most recent call last):\n",
      "  File \"<string>\", line 1, in <module>\n",
      "  File \"/usr/lib/python3.10/multiprocessing/spawn.py\", line 116, in spawn_main\n",
      "    exitcode = _main(fd, parent_sentinel)\n",
      "  File \"/usr/lib/python3.10/multiprocessing/spawn.py\", line 126, in _main\n",
      "    self = reduction.pickle.load(from_parent)\n",
      "AttributeError: Can't get attribute 'train_model' on <module '__main__' (built-in)>\n",
      "W1020 14:15:49.910000 140602823237632 torch/multiprocessing/spawn.py:145] Terminating process 2673920 via signal SIGTERM\n",
      "W1020 14:15:49.911000 140602823237632 torch/multiprocessing/spawn.py:145] Terminating process 2673921 via signal SIGTERM\n"
     ]
    },
    {
     "ename": "ProcessExitedException",
     "evalue": "process 2 terminated with exit code 1",
     "output_type": "error",
     "traceback": [
      "\u001b[0;31m---------------------------------------------------------------------------\u001b[0m",
      "\u001b[0;31mProcessExitedException\u001b[0m                    Traceback (most recent call last)",
      "Cell \u001b[0;32mIn[40], line 1\u001b[0m\n\u001b[0;32m----> 1\u001b[0m \u001b[43mrun_distributed_training\u001b[49m\u001b[43m(\u001b[49m\u001b[43mmodel\u001b[49m\u001b[43m,\u001b[49m\u001b[43m \u001b[49m\u001b[43mtrain_dataloader\u001b[49m\u001b[43m,\u001b[49m\u001b[43m \u001b[49m\u001b[43mvalidation_dataloader\u001b[49m\u001b[43m,\u001b[49m\u001b[43m \u001b[49m\u001b[43mworld_size\u001b[49m\u001b[43m,\u001b[49m\u001b[43m \u001b[49m\u001b[43mepochs\u001b[49m\u001b[38;5;241;43m=\u001b[39;49m\u001b[43mepochs\u001b[49m\u001b[43m,\u001b[49m\u001b[43m \u001b[49m\u001b[43mlr\u001b[49m\u001b[38;5;241;43m=\u001b[39;49m\u001b[38;5;241;43m1e-4\u001b[39;49m\u001b[43m)\u001b[49m\n",
      "Cell \u001b[0;32mIn[38], line 2\u001b[0m, in \u001b[0;36mrun_distributed_training\u001b[0;34m(model, train_dataset, valid_dataset, world_size, epochs, lr, device, log_directory, resume, checkpoint_dir, checkpoint_filename, new_checkpoint)\u001b[0m\n\u001b[1;32m      1\u001b[0m \u001b[38;5;28;01mdef\u001b[39;00m \u001b[38;5;21mrun_distributed_training\u001b[39m(model, train_dataset, valid_dataset, world_size, epochs\u001b[38;5;241m=\u001b[39m\u001b[38;5;241m10\u001b[39m, lr\u001b[38;5;241m=\u001b[39m\u001b[38;5;241m1e-4\u001b[39m, device\u001b[38;5;241m=\u001b[39m\u001b[38;5;124m'\u001b[39m\u001b[38;5;124mcuda\u001b[39m\u001b[38;5;124m'\u001b[39m, log_directory\u001b[38;5;241m=\u001b[39m\u001b[38;5;124m\"\u001b[39m\u001b[38;5;124mlog_dir\u001b[39m\u001b[38;5;124m\"\u001b[39m, resume\u001b[38;5;241m=\u001b[39m\u001b[38;5;28;01mFalse\u001b[39;00m, checkpoint_dir\u001b[38;5;241m=\u001b[39m\u001b[38;5;124m\"\u001b[39m\u001b[38;5;124mcheckpoints\u001b[39m\u001b[38;5;124m\"\u001b[39m, checkpoint_filename\u001b[38;5;241m=\u001b[39m\u001b[38;5;124m\"\u001b[39m\u001b[38;5;124mmodel_checkpoint.pth\u001b[39m\u001b[38;5;124m\"\u001b[39m, new_checkpoint\u001b[38;5;241m=\u001b[39m\u001b[38;5;28;01mFalse\u001b[39;00m):\n\u001b[0;32m----> 2\u001b[0m     \u001b[43mmp\u001b[49m\u001b[38;5;241;43m.\u001b[39;49m\u001b[43mspawn\u001b[49m\u001b[43m(\u001b[49m\u001b[43mtrain_model\u001b[49m\u001b[43m,\u001b[49m\n\u001b[1;32m      3\u001b[0m \u001b[43m             \u001b[49m\u001b[43margs\u001b[49m\u001b[38;5;241;43m=\u001b[39;49m\u001b[43m(\u001b[49m\u001b[43mworld_size\u001b[49m\u001b[43m,\u001b[49m\u001b[43m \u001b[49m\u001b[43mmodel\u001b[49m\u001b[43m,\u001b[49m\u001b[43m \u001b[49m\u001b[43mtrain_dataset\u001b[49m\u001b[43m,\u001b[49m\u001b[43m \u001b[49m\u001b[43mvalid_dataset\u001b[49m\u001b[43m,\u001b[49m\u001b[43m \u001b[49m\u001b[43mepochs\u001b[49m\u001b[43m,\u001b[49m\u001b[43m \u001b[49m\u001b[43mlr\u001b[49m\u001b[43m,\u001b[49m\u001b[43m \u001b[49m\u001b[43mdevice\u001b[49m\u001b[43m,\u001b[49m\u001b[43m \u001b[49m\u001b[43mlog_directory\u001b[49m\u001b[43m,\u001b[49m\u001b[43m \u001b[49m\u001b[43mresume\u001b[49m\u001b[43m,\u001b[49m\u001b[43m \u001b[49m\u001b[43mcheckpoint_dir\u001b[49m\u001b[43m,\u001b[49m\u001b[43m \u001b[49m\u001b[43mcheckpoint_filename\u001b[49m\u001b[43m,\u001b[49m\u001b[43m \u001b[49m\u001b[43mnew_checkpoint\u001b[49m\u001b[43m)\u001b[49m\u001b[43m,\u001b[49m\n\u001b[1;32m      4\u001b[0m \u001b[43m             \u001b[49m\u001b[43mnprocs\u001b[49m\u001b[38;5;241;43m=\u001b[39;49m\u001b[43mworld_size\u001b[49m\u001b[43m,\u001b[49m\n\u001b[1;32m      5\u001b[0m \u001b[43m             \u001b[49m\u001b[43mjoin\u001b[49m\u001b[38;5;241;43m=\u001b[39;49m\u001b[38;5;28;43;01mTrue\u001b[39;49;00m\u001b[43m)\u001b[49m\n",
      "File \u001b[0;32m/usr/lib/python3/dist-packages/torch/multiprocessing/spawn.py:281\u001b[0m, in \u001b[0;36mspawn\u001b[0;34m(fn, args, nprocs, join, daemon, start_method)\u001b[0m\n\u001b[1;32m    275\u001b[0m     msg \u001b[38;5;241m=\u001b[39m (\n\u001b[1;32m    276\u001b[0m         \u001b[38;5;124m\"\u001b[39m\u001b[38;5;124mThis method only supports start_method=spawn (got: \u001b[39m\u001b[38;5;132;01m%s\u001b[39;00m\u001b[38;5;124m).\u001b[39m\u001b[38;5;130;01m\\n\u001b[39;00m\u001b[38;5;124m\"\u001b[39m\n\u001b[1;32m    277\u001b[0m         \u001b[38;5;124m\"\u001b[39m\u001b[38;5;124mTo use a different start_method use:\u001b[39m\u001b[38;5;130;01m\\n\u001b[39;00m\u001b[38;5;130;01m\\t\u001b[39;00m\u001b[38;5;130;01m\\t\u001b[39;00m\u001b[38;5;124m\"\u001b[39m\n\u001b[1;32m    278\u001b[0m         \u001b[38;5;124m\"\u001b[39m\u001b[38;5;124m torch.multiprocessing.start_processes(...)\u001b[39m\u001b[38;5;124m\"\u001b[39m \u001b[38;5;241m%\u001b[39m start_method\n\u001b[1;32m    279\u001b[0m     )\n\u001b[1;32m    280\u001b[0m     warnings\u001b[38;5;241m.\u001b[39mwarn(msg)\n\u001b[0;32m--> 281\u001b[0m \u001b[38;5;28;01mreturn\u001b[39;00m \u001b[43mstart_processes\u001b[49m\u001b[43m(\u001b[49m\u001b[43mfn\u001b[49m\u001b[43m,\u001b[49m\u001b[43m \u001b[49m\u001b[43margs\u001b[49m\u001b[43m,\u001b[49m\u001b[43m \u001b[49m\u001b[43mnprocs\u001b[49m\u001b[43m,\u001b[49m\u001b[43m \u001b[49m\u001b[43mjoin\u001b[49m\u001b[43m,\u001b[49m\u001b[43m \u001b[49m\u001b[43mdaemon\u001b[49m\u001b[43m,\u001b[49m\u001b[43m \u001b[49m\u001b[43mstart_method\u001b[49m\u001b[38;5;241;43m=\u001b[39;49m\u001b[38;5;124;43m\"\u001b[39;49m\u001b[38;5;124;43mspawn\u001b[39;49m\u001b[38;5;124;43m\"\u001b[39;49m\u001b[43m)\u001b[49m\n",
      "File \u001b[0;32m/usr/lib/python3/dist-packages/torch/multiprocessing/spawn.py:237\u001b[0m, in \u001b[0;36mstart_processes\u001b[0;34m(fn, args, nprocs, join, daemon, start_method)\u001b[0m\n\u001b[1;32m    234\u001b[0m     \u001b[38;5;28;01mreturn\u001b[39;00m context\n\u001b[1;32m    236\u001b[0m \u001b[38;5;66;03m# Loop on join until it returns True or raises an exception.\u001b[39;00m\n\u001b[0;32m--> 237\u001b[0m \u001b[38;5;28;01mwhile\u001b[39;00m \u001b[38;5;129;01mnot\u001b[39;00m \u001b[43mcontext\u001b[49m\u001b[38;5;241;43m.\u001b[39;49m\u001b[43mjoin\u001b[49m\u001b[43m(\u001b[49m\u001b[43m)\u001b[49m:\n\u001b[1;32m    238\u001b[0m     \u001b[38;5;28;01mpass\u001b[39;00m\n",
      "File \u001b[0;32m/usr/lib/python3/dist-packages/torch/multiprocessing/spawn.py:177\u001b[0m, in \u001b[0;36mProcessContext.join\u001b[0;34m(self, timeout)\u001b[0m\n\u001b[1;32m    169\u001b[0m         \u001b[38;5;28;01mraise\u001b[39;00m ProcessExitedException(\n\u001b[1;32m    170\u001b[0m             \u001b[38;5;124m\"\u001b[39m\u001b[38;5;124mprocess \u001b[39m\u001b[38;5;132;01m%d\u001b[39;00m\u001b[38;5;124m terminated with signal \u001b[39m\u001b[38;5;132;01m%s\u001b[39;00m\u001b[38;5;124m\"\u001b[39m \u001b[38;5;241m%\u001b[39m (error_index, name),\n\u001b[1;32m    171\u001b[0m             error_index\u001b[38;5;241m=\u001b[39merror_index,\n\u001b[0;32m   (...)\u001b[0m\n\u001b[1;32m    174\u001b[0m             signal_name\u001b[38;5;241m=\u001b[39mname,\n\u001b[1;32m    175\u001b[0m         )\n\u001b[1;32m    176\u001b[0m     \u001b[38;5;28;01melse\u001b[39;00m:\n\u001b[0;32m--> 177\u001b[0m         \u001b[38;5;28;01mraise\u001b[39;00m ProcessExitedException(\n\u001b[1;32m    178\u001b[0m             \u001b[38;5;124m\"\u001b[39m\u001b[38;5;124mprocess \u001b[39m\u001b[38;5;132;01m%d\u001b[39;00m\u001b[38;5;124m terminated with exit code \u001b[39m\u001b[38;5;132;01m%d\u001b[39;00m\u001b[38;5;124m\"\u001b[39m \u001b[38;5;241m%\u001b[39m (error_index, exitcode),\n\u001b[1;32m    179\u001b[0m             error_index\u001b[38;5;241m=\u001b[39merror_index,\n\u001b[1;32m    180\u001b[0m             error_pid\u001b[38;5;241m=\u001b[39mfailed_process\u001b[38;5;241m.\u001b[39mpid,\n\u001b[1;32m    181\u001b[0m             exit_code\u001b[38;5;241m=\u001b[39mexitcode,\n\u001b[1;32m    182\u001b[0m         )\n\u001b[1;32m    184\u001b[0m \u001b[38;5;28;01mwith\u001b[39;00m \u001b[38;5;28mopen\u001b[39m(\u001b[38;5;28mself\u001b[39m\u001b[38;5;241m.\u001b[39merror_files[error_index], \u001b[38;5;124m\"\u001b[39m\u001b[38;5;124mrb\u001b[39m\u001b[38;5;124m\"\u001b[39m) \u001b[38;5;28;01mas\u001b[39;00m fh:\n\u001b[1;32m    185\u001b[0m     original_trace \u001b[38;5;241m=\u001b[39m pickle\u001b[38;5;241m.\u001b[39mload(fh)\n",
      "\u001b[0;31mProcessExitedException\u001b[0m: process 2 terminated with exit code 1"
     ]
    }
   ],
   "source": [
    "run_distributed_training(model, train_dataloader, validation_dataloader, world_size, epochs=epochs, lr=1e-4)"
   ]
  },
  {
   "cell_type": "code",
   "execution_count": null,
   "metadata": {},
   "outputs": [],
   "source": []
  }
 ],
 "metadata": {
  "kernelspec": {
   "display_name": "Python 3",
   "language": "python",
   "name": "python3"
  },
  "language_info": {
   "codemirror_mode": {
    "name": "ipython",
    "version": 3
   },
   "file_extension": ".py",
   "mimetype": "text/x-python",
   "name": "python",
   "nbconvert_exporter": "python",
   "pygments_lexer": "ipython3",
   "version": "3.10.12"
  }
 },
 "nbformat": 4,
 "nbformat_minor": 2
}
